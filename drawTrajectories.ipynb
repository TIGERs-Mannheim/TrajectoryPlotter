{
 "cells": [
  {
   "cell_type": "code",
   "execution_count": null,
   "outputs": [],
   "source": [
    "from JavaClones.Vec2 import Vec2\n",
    "from Plotting.Plotter import PlotType, Plotter"
   ],
   "metadata": {
    "collapsed": false
   }
  },
  {
   "cell_type": "code",
   "execution_count": null,
   "outputs": [],
   "source": [
    "v_max = 2.0\n",
    "a_max = 3.0"
   ],
   "metadata": {
    "collapsed": false
   }
  },
  {
   "cell_type": "code",
   "execution_count": null,
   "outputs": [],
   "source": [
    "Plotter.plot(\n",
    "    s0=0.2,\n",
    "    s1=1.5,\n",
    "    v0=0.3,\n",
    "    v_max=v_max,\n",
    "    a_max=a_max,\n",
    "    tt=None,\n",
    "    primary_direction=None,\n",
    "    plot_type=PlotType.TRAJ,\n",
    "    save_fig=False,\n",
    "    show_fig=True\n",
    ")"
   ],
   "metadata": {
    "collapsed": false
   }
  },
  {
   "cell_type": "code",
   "execution_count": null,
   "outputs": [],
   "source": [
    "Plotter.plot(\n",
    "    s0=Vec2.zero(),\n",
    "    s1=Vec2(1.0, 1.0),\n",
    "    v0=Vec2(v_max, 0.0),\n",
    "    v_max=v_max,\n",
    "    a_max=a_max,\n",
    "    tt=1.2,\n",
    "    primary_direction=None,\n",
    "    plot_type=PlotType.TRAJ,\n",
    "    save_fig=False,\n",
    "    show_fig=True\n",
    ")"
   ],
   "metadata": {
    "collapsed": false
   }
  },
  {
   "cell_type": "code",
   "execution_count": null,
   "outputs": [],
   "source": [
    "distances = [Vec2(1.5, 3)]\n",
    "initial_velocities = [Vec2(0, 1)]\n",
    "target_times = [1.9, None]\n",
    "\n",
    "for d in sorted(set(distances)):\n",
    "    for i_v in sorted(set(initial_velocities)):\n",
    "        for tt in set(target_times):\n",
    "            Plotter.plot(\n",
    "                s0=Vec2.zero(),\n",
    "                s1=d,\n",
    "                v0=i_v,\n",
    "                v_max=v_max,\n",
    "                a_max=a_max,\n",
    "                tt=tt,\n",
    "                primary_direction=None,\n",
    "                plot_type=PlotType.TRAJ,\n",
    "                save_fig=True,\n",
    "                show_fig=True\n",
    "            )"
   ],
   "metadata": {
    "collapsed": false
   }
  },
  {
   "cell_type": "code",
   "execution_count": null,
   "outputs": [],
   "source": [
    "test_values = [\n",
    "    (0.0, 0.0, 0.0),\n",
    "    (0.0, 1.0, 0.0),\n",
    "    (0.0, 1.0, 1.0),\n",
    "    (0.0, 1.0, 1.1),\n",
    "    (0.5, 2.0, 0.5),\n",
    "    (0.5, 2.0, 0.92),\n",
    "    (1.0, 1.0, 0.5),\n",
    "    (1.0, 1.0, 0.6),\n",
    "    (1.0, 1.0, 1.0),\n",
    "    (2.0, 2.0, 1.1),\n",
    "    (2.0, 2.0, 2.0),\n",
    "    (1.0, 0.0, 1.0),\n",
    "]\n",
    "\n",
    "for values in test_values:\n",
    "    Plotter.plot(\n",
    "        s0=0,\n",
    "        s1=values[0],\n",
    "        v0=values[1],\n",
    "        v_max=v_max,\n",
    "        a_max=a_max,\n",
    "        tt=values[2],\n",
    "        primary_direction=None,\n",
    "        plot_type=PlotType.TRAJ,\n",
    "        save_fig=False,\n",
    "        show_fig=True\n",
    "    )"
   ],
   "metadata": {
    "collapsed": false
   }
  },
  {
   "cell_type": "code",
   "execution_count": null,
   "outputs": [],
   "source": [
    "test_values = [\n",
    "    (0.5, 1.5, 0.1, \"trap_too_slow_2.png\"),\n",
    "    (0.2, 1.5, 0.1, \"line_too_slow.png\"),\n",
    "    (0.2, 0, 0.4, \"tria_too_slow.png\"),\n",
    "    (0.2, 0, 0.6, \"tria_direct.png\"),\n",
    "    (0.2, 0, 0.8, \"tria_early.png\"),\n",
    "    (1, 0, 1, \"trap_too_slow_1.png\"),\n",
    "    (1, 0, 1.5, \"trap_direct.png\"),\n",
    "    (1, 0, 2, \"trap_early.png\"),\n",
    "    (0.2, 2, 2, \"overshoot.png\"),\n",
    "]\n",
    "\n",
    "for values in test_values:\n",
    "    Plotter.plot(\n",
    "        s0=0,\n",
    "        s1=values[0],\n",
    "        v0=values[1],\n",
    "        v_max=v_max,\n",
    "        a_max=a_max,\n",
    "        tt=values[2],\n",
    "        primary_direction=None,\n",
    "        plot_type=PlotType.TRAJ_NO_ACC,\n",
    "        save_fig=values[3],\n",
    "        show_fig=True,\n",
    "        v_max_1d=1,\n",
    "        a_max_1d=1.5,\n",
    "    )"
   ],
   "metadata": {
    "collapsed": false
   }
  },
  {
   "cell_type": "code",
   "execution_count": null,
   "outputs": [],
   "source": [
    "import math\n",
    "\n",
    "s = 1.028468852217555351558075926732271909713745117187500000000000\n",
    "v0 = 1.032920985147269377080192498397082090377807617187500000000000\n",
    "factor = 0.1467304745\n",
    "factor2 = factor + 0.0604\n",
    "tt = 0.903802978547136981468668182060355320572853088378906250000000\n",
    "print(\"Total times:\")\n",
    "print(\"{:.3f}\".format(Plotter.plot(\n",
    "    s0=0,\n",
    "    s1=s,\n",
    "    v0=v0,\n",
    "    v_max=v_max,\n",
    "    a_max=a_max,\n",
    "    tt=tt,\n",
    "    primary_direction=None,\n",
    "    plot_type=PlotType.TRAJ_NO_ACC,\n",
    "    v_max_1d=v_max * factor,\n",
    "    a_max_1d=a_max * factor,\n",
    "    save_fig=\"none_convexity_1.png\"\n",
    ").get_total_time()))\n",
    "print(\"{:.3f}\".format(Plotter.plot(\n",
    "    s0=0,\n",
    "    s1=s,\n",
    "    v0=v0,\n",
    "    v_max=v_max,\n",
    "    a_max=a_max,\n",
    "    tt=tt,\n",
    "    primary_direction=None,\n",
    "    plot_type=PlotType.TRAJ_NO_ACC,\n",
    "    v_max_1d=v_max * factor2,\n",
    "    a_max_1d=a_max * factor2,\n",
    "    save_fig=\"none_convexity_2.png\"\n",
    ").get_total_time()))\n",
    "print()\n",
    "\n",
    "print(\"Angles [deg]:\")\n",
    "print(f\"{math.acos(factor) * 180 / math.pi:.1f}\")\n",
    "print(f\"{math.acos(factor2) * 180 / math.pi:.1f}\")\n",
    "print()\n",
    "\n",
    "print(\"Max Vel and Max Acc:\")\n",
    "print(f\"{v_max * factor:.3f}, {a_max * factor:.3f}\")\n",
    "print(f\"{v_max * factor2:.3f}, {a_max * factor2:.3f}\")"
   ],
   "metadata": {
    "collapsed": false
   }
  },
  {
   "cell_type": "code",
   "execution_count": null,
   "outputs": [],
   "source": [],
   "metadata": {
    "collapsed": false
   }
  },
  {
   "cell_type": "code",
   "execution_count": null,
   "outputs": [],
   "source": [
    "test_values = [\n",
    "    ((-1.5, -3), (2, 0), 2.3),\n",
    "    ((1, 0.5), (0, 0), 1),\n",
    "    ((-1.5, -3), (0, 0), 2.2),\n",
    "    ((-1, 0.5), (0, 0), 1),\n",
    "    ((-1.5, -3), (0, 0), 2.6),\n",
    "    ((-1.5, -3), (0, 0), 2.5),\n",
    "    ((-1.5, -3), (0, 0), 2.4),\n",
    "    ((-1.5, -3), (0, 0), 2.3),\n",
    "]\n",
    "\n",
    "for values in test_values:\n",
    "    Plotter.plot(\n",
    "        s0=0,\n",
    "        s1=Vec2(*values[0]),\n",
    "        v0=Vec2(*values[1]),\n",
    "        v_max=v_max,\n",
    "        a_max=a_max,\n",
    "        tt=values[2],\n",
    "        primary_direction=None,\n",
    "        plot_type=PlotType.TRAJ,\n",
    "        save_fig=False,\n",
    "        show_fig=True\n",
    "    )"
   ],
   "metadata": {
    "collapsed": false
   }
  }
 ],
 "metadata": {
  "kernelspec": {
   "display_name": "Python 3 (ipykernel)",
   "language": "python",
   "name": "python3"
  },
  "language_info": {
   "codemirror_mode": {
    "name": "ipython",
    "version": 3
   },
   "file_extension": ".py",
   "mimetype": "text/x-python",
   "name": "python",
   "nbconvert_exporter": "python",
   "pygments_lexer": "ipython3",
   "version": "3.10.4"
  }
 },
 "nbformat": 4,
 "nbformat_minor": 1
}

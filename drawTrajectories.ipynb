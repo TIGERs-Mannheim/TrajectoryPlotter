{
 "cells": [
  {
   "cell_type": "code",
   "execution_count": null,
   "outputs": [],
   "source": [
    "import math\n",
    "import random\n",
    "\n",
    "import numpy as np\n",
    "from matplotlib import pyplot as plt\n",
    "\n",
    "from plotting import PlotType, Plotter\n",
    "from simulating import Simulator, SimStep2d\n",
    "from traj import Vec2\n",
    "from traj2D import BangBangTrajectory2D"
   ],
   "metadata": {
    "collapsed": false,
    "pycharm": {
     "name": "#%%\n"
    }
   }
  },
  {
   "cell_type": "code",
   "execution_count": null,
   "outputs": [],
   "source": [
    "max_acc = 3.0\n",
    "max_vel = 2.0\n",
    "global_save_figures = False"
   ],
   "metadata": {
    "collapsed": false,
    "pycharm": {
     "name": "#%%\n"
    }
   }
  },
  {
   "cell_type": "code",
   "execution_count": null,
   "outputs": [],
   "source": [
    "pos = Vec2(-5.4129714965820310000000000000000000000000, 0.6422926187515259000000000000000000000000)\n",
    "des = Vec2(-5.4946027233595330000000000000000000000000, 0.8210608334405900000000000000000000000000)\n",
    "tt = 0.0870614797700151600000000000000000000000\n",
    "\n",
    "traj2d  = Plotter.plot(pos, des, tt, max_vel, max_acc, PlotType.TRAJ)\n",
    "print(traj2d.alpha)\n",
    "traj1d = Plotter.plot(pos.y, des.y, tt, max_vel * math.sin(traj2d.alpha), max_acc * math.sin(traj2d.alpha), PlotType.TRAJ)\n",
    "traj1d.get_position(float(\"inf\"))"
   ],
   "metadata": {
    "collapsed": false,
    "pycharm": {
     "name": "#%%\n"
    }
   }
  },
  {
   "cell_type": "code",
   "execution_count": null,
   "outputs": [],
   "source": [
    "assert 1 == 0"
   ],
   "metadata": {
    "collapsed": false,
    "pycharm": {
     "name": "#%%\n"
    }
   }
  },
  {
   "cell_type": "code",
   "execution_count": null,
   "outputs": [],
   "source": [
    "Plotter.plot(0.2, 1.5, 0.3, max_vel, max_acc, PlotType.TRAJ)"
   ],
   "metadata": {
    "collapsed": false,
    "pycharm": {
     "name": "#%%\n"
    }
   }
  },
  {
   "cell_type": "code",
   "execution_count": null,
   "outputs": [],
   "source": [
    "import timeit\n",
    "\n",
    "traj = Plotter.plot(Vec2(1.0, 1.0), Vec2(max_vel, 0.0), 1.2, max_vel, max_acc, PlotType.TRAJ, show_fig=True)\n",
    "goal = traj.get_position(float(\"inf\"))\n",
    "Plotter.plot(goal, Vec2(max_vel, 0.0), None, max_vel, max_acc, PlotType.TRAJ)\n",
    "Plotter.plot(Vec2(1.0, 1.0), Vec2(max_vel, 0.0), 1.2, max_vel, max_acc, PlotType.DIFF_ALPHA)\n",
    "Plotter.plot(Vec2(1.0, 1.0), Vec2(max_vel, 0.0), None, max_vel, max_acc, PlotType.DIFF_ALPHA)\n",
    "\n",
    "do_timeit = True\n",
    "if do_timeit:\n",
    "    BangBangTrajectory2D().generate(Vec2(0.0, 0.0), Vec2(1.0, 1.0), Vec2(max_vel, 0.0), max_vel, max_acc, 1e-3, 1.2)\n",
    "    with_tt = timeit.repeat(\n",
    "        \"BangBangTrajectory2D().generate(Vec2(0.0,0.0), Vec2(1.0,1.0), Vec2(max_vel, 0.0), max_vel, max_acc, 1e-3, 1.2)\",\n",
    "        repeat=100, number=3, globals=globals())\n",
    "    BangBangTrajectory2D().generate(Vec2(0.0, 0.0), Vec2(1.0, 1.0), Vec2(max_vel, 0.0), max_vel, max_acc, 1e-3, None)\n",
    "    no_tt = timeit.repeat(\n",
    "        \"BangBangTrajectory2D().generate(Vec2(0.0,0.0), Vec2(1.0,1.0), Vec2(max_vel, 0.0), max_vel, max_acc, 1e-3, None)\",\n",
    "        repeat=100, number=3, globals=globals())\n",
    "\n",
    "    print(\"With TargetTime: {:.3f}ms\".format(np.average(with_tt) / 3 * 1e3))\n",
    "    print(\"  No TargetTime: {:.3f}ms\".format(np.average(no_tt) / 3 * 1e3))\n",
    "\n",
    "alpha = 0.785397976143934029025217569142114371061325073242187500000000\n",
    "x_max_vel = math.cos(alpha) * max_vel\n",
    "y_max_vel = math.sin(alpha) * max_vel\n",
    "x_max_acc = math.cos(alpha) * max_acc\n",
    "y_max_acc = math.sin(alpha) * max_acc\n",
    "Plotter.plot(1.0, max_vel, 1.2, x_max_vel, x_max_acc, PlotType.TRAJ)\n",
    "Plotter.plot(1.0, 0.0, 1.2, y_max_vel, y_max_acc, PlotType.TRAJ)"
   ],
   "metadata": {
    "collapsed": false,
    "pycharm": {
     "name": "#%%\n"
    }
   }
  },
  {
   "cell_type": "code",
   "execution_count": null,
   "outputs": [],
   "source": [
    "offset = 1\n",
    "distance = Vec2(1.0, 1.0)\n",
    "original = Plotter.plot(distance, Vec2(max_vel, 0.0), None, max_vel, max_acc, PlotType.TRAJ, save_fig=True)\n",
    "if isinstance(original, BangBangTrajectory2D):\n",
    "    offset_alpha = Vec2(math.cos(original.alpha) * offset, math.sin(original.alpha) * offset)\n",
    "    Plotter.plot(distance + offset_alpha, Vec2(max_vel, 0.0), None, max_vel, max_acc, PlotType.TRAJ, save_fig=True)\n",
    "\n",
    "    original_angle = math.atan(distance.y / distance.x)\n",
    "    offset_original = Vec2(math.cos(original_angle) * offset, math.sin(original_angle) * offset)\n",
    "    Plotter.plot(distance + offset_original, Vec2(max_vel, 0.0), None, max_vel, max_acc, PlotType.TRAJ, save_fig=True)\n",
    "\n",
    "\n"
   ],
   "metadata": {
    "collapsed": false,
    "pycharm": {
     "name": "#%%\n"
    }
   }
  },
  {
   "cell_type": "code",
   "execution_count": null,
   "outputs": [],
   "source": [
    "distances = [Vec2(1.5, 3)]\n",
    "initial_velocities = [Vec2(0, 2)]\n",
    "target_times = [1]\n",
    "\n",
    "for d in sorted(set(distances)):\n",
    "    for i_v in sorted(set(initial_velocities)):\n",
    "        for tt in sorted(set(target_times)):\n",
    "            fig = Plotter.plot(d, i_v, tt, max_vel, max_acc, PlotType.TRAJ)"
   ],
   "metadata": {
    "collapsed": false,
    "pycharm": {
     "name": "#%%\n"
    }
   }
  },
  {
   "cell_type": "code",
   "execution_count": null,
   "outputs": [],
   "source": [
    "offset = 1\n",
    "distance = Vec2(1.0, 1.0)\n",
    "original = Plotter.plot(distance, Vec2(max_vel, 0.0), None, max_vel, max_acc, PlotType.TRAJ, save_fig=True)\n",
    "if isinstance(original, BangBangTrajectory2D):\n",
    "    offset_alpha = Vec2(math.cos(original.alpha) * offset, math.sin(original.alpha) * offset)\n",
    "    Plotter.plot(distance + offset_alpha, Vec2(max_vel, 0.0), None, max_vel, max_acc, PlotType.TRAJ, save_fig=True)\n",
    "\n",
    "    original_angle = math.atan(distance.y / distance.x)\n",
    "    offset_original = Vec2(math.cos(original_angle) * offset, math.sin(original_angle) * offset)\n",
    "    Plotter.plot(distance + offset_original, Vec2(max_vel, 0.0), None, max_vel, max_acc, PlotType.TRAJ, save_fig=True)\n",
    "\n",
    "\n"
   ],
   "metadata": {
    "collapsed": false,
    "pycharm": {
     "name": "#%%\n"
    }
   }
  },
  {
   "cell_type": "code",
   "execution_count": null,
   "outputs": [],
   "source": [
    "distances = [Vec2(1.5, 3)]\n",
    "initial_velocities = [Vec2(0, 2)]\n",
    "target_times = [1]\n",
    "\n",
    "for d in sorted(set(distances)):\n",
    "    for i_v in sorted(set(initial_velocities)):\n",
    "        for tt in sorted(set(target_times)):\n",
    "            fig = Plotter.plot(d, i_v, tt, max_vel, max_acc, PlotType.TRAJ)"
   ],
   "metadata": {
    "collapsed": false,
    "pycharm": {
     "name": "#%%\n"
    }
   }
  },
  {
   "cell_type": "code",
   "execution_count": null,
   "outputs": [],
   "source": [
    "Plotter.plot(Vec2(0.548, -2.942), Vec2(-1.229, -0.234), 2.9495631519290217 - 0.4022954059789714, max_vel=max_vel,\n",
    "             max_acc=max_acc, plot_type=PlotType.TRAJ)"
   ],
   "metadata": {
    "collapsed": false,
    "pycharm": {
     "name": "#%%\n"
    }
   }
  },
  {
   "cell_type": "code",
   "execution_count": null,
   "outputs": [],
   "source": [
    "test_values = [\n",
    "    (0.0, 0.0, 0.0),\n",
    "    (0.0, 1.0, 0.0),\n",
    "    (0.0, 1.0, 1.0),\n",
    "    (0.0, 1.0, 1.1),\n",
    "    (0.5, 2.0, 0.5),\n",
    "    (0.5, 2.0, 0.92),\n",
    "    (1.0, 1.0, 0.5),\n",
    "    (1.0, 1.0, 0.6),\n",
    "    (1.0, 1.0, 1.0),\n",
    "    (2.0, 2.0, 1.1),\n",
    "    (2.0, 2.0, 2.0),\n",
    "    (1.0, 0.0, 1.0),\n",
    "]\n",
    "\n",
    "for values in test_values:\n",
    "    Plotter.plot(values[0], values[1], values[2], max_vel, max_acc, PlotType.NONE)"
   ],
   "metadata": {
    "collapsed": false,
    "pycharm": {
     "name": "#%%\n"
    }
   }
  },
  {
   "cell_type": "code",
   "execution_count": null,
   "outputs": [],
   "source": [
    "test_values = [\n",
    "    ((-1.5, -3), (2, 0), 2.3),\n",
    "    ((1, 0.5), (0, 0), 1),\n",
    "    ((-1.5, -3), (0, 0), 2.2),\n",
    "    ((-1, 0.5), (0, 0), 1),\n",
    "    ((-1.5, -3), (0, 0), 2.6),\n",
    "    ((-1.5, -3), (0, 0), 2.5),\n",
    "    ((-1.5, -3), (0, 0), 2.4),\n",
    "    ((-1.5, -3), (0, 0), 2.3),\n",
    "]\n",
    "\n",
    "for value in test_values:\n",
    "    distance = Vec2(*value[0])\n",
    "    initial_vel = Vec2(*value[1])\n",
    "    target_time = value[2]\n",
    "    Plotter.plot(distance, initial_vel, target_time, max_vel, max_acc, PlotType.SIM_TRAJ, show_fig=False)\n",
    "    Plotter.plot(distance, initial_vel, target_time, max_vel, max_acc, PlotType.TRAJ)"
   ],
   "metadata": {
    "collapsed": false,
    "pycharm": {
     "name": "#%%\n"
    }
   }
  },
  {
   "cell_type": "code",
   "execution_count": null,
   "outputs": [],
   "source": [
    "random.seed(1)\n",
    "t_diffs = []\n",
    "t_outlier = []\n",
    "for _ in range(100):\n",
    "    distance_x = random.uniform(-3, 3)\n",
    "    distance_y = random.uniform(-3, 3)\n",
    "    distance = Vec2(distance_x, distance_y)\n",
    "    v0x = random.uniform(-max_vel, max_vel)\n",
    "    v0y = random.uniform(-max_vel, max_vel)\n",
    "    v0 = Vec2(v0x, v0y)\n",
    "    target_time = random.uniform(0, 3)\n",
    "\n",
    "    if math.isclose(target_time, 0.0, abs_tol=1e-4) or (\n",
    "            math.isclose(distance_x, 0.0, abs_tol=1e-4) and math.isclose(distance_y, 0.0, abs_tol=1e-4)):\n",
    "        continue\n",
    "\n",
    "    try:\n",
    "        sim_steps = Simulator(\n",
    "            max_vel=max_vel,\n",
    "            max_acc=max_acc,\n",
    "            num_steps=40,\n",
    "            step_size=5,\n",
    "            distance=distance,\n",
    "            initial_vel=v0,\n",
    "            target_time=target_time).simulate()\n",
    "        for step in sim_steps:\n",
    "            if isinstance(step, SimStep2d):\n",
    "                t_diff_optimal = BangBangTrajectory2D.diff_for_alpha(step.optimal_alpha, step.pos[0], step.pos[-1],\n",
    "                                                                     step.vel[0], max_vel, max_acc,\n",
    "                                                                     step.times[-1] - step.times[0])[0]\n",
    "                t_diff_chosen = BangBangTrajectory2D.diff_for_alpha(step.alpha, step.pos[0], step.pos[-1],\n",
    "                                                                    step.vel[0], max_vel, max_acc,\n",
    "                                                                    step.times[-1] - step.times[0])[0]\n",
    "                t_diffs.append(step.optimal_alpha - step.alpha)\n",
    "                if math.fabs(max(t_diff_chosen - t_diff_optimal, 0.0)) > 5:\n",
    "                    Plotter.plot(step.pos[-1] - step.current_pos(), step.vel[0], step.times[-1] - step.times[0],\n",
    "                                 max_vel, max_acc, PlotType.TRAJ)\n",
    "                    plt.show()\n",
    "                    print(\"({}),({}),{}\".format(step.pos[-1] - step.current_pos(), step.vel[0],\n",
    "                                                step.times[-1] - step.times[0]))\n",
    "\n",
    "        if isinstance(distance, Vec2):\n",
    "            if not math.isclose(sim_steps[-1].current_pos().x, distance.x, abs_tol=0.01) or not math.isclose(\n",
    "                    sim_steps[-1].current_pos().y, distance.y, abs_tol=0.01):\n",
    "                print(\"{} != {}\".format(sim_steps[-1].current_pos().x, distance.x))\n",
    "                print(\"{} != {}\".format(sim_steps[-1].current_pos().y, distance.y))\n",
    "                # Plotter.plot(distance, v0, target_time, max_vel, max_acc, PlotType.TRAJ)\n",
    "        else:\n",
    "            assert math.isclose(sim_steps[-1].current_pos(), distance, abs_tol=1e-2,\n",
    "                                rel_tol=1e-4), \"{} != {}\".format(sim_steps[-1].current_pos(), distance)\n",
    "    except Exception as e:\n",
    "        print(\"({}), ({}), {} failed\".format(distance, v0, target_time))\n",
    "        raise AssertionError(e)\n",
    "print(\"Success!\")\n",
    "print(\"Alphas Error: {} +- {}\".format(np.average(t_diffs), np.std(t_diffs)))"
   ],
   "metadata": {
    "collapsed": false,
    "pycharm": {
     "name": "#%%\n"
    }
   }
  },
  {
   "cell_type": "code",
   "execution_count": null,
   "outputs": [],
   "source": [
    "sorted(t_diffs, key=lambda d: math.fabs(d))[-100:]"
   ],
   "metadata": {
    "collapsed": false,
    "pycharm": {
     "name": "#%%\n"
    }
   }
  },
  {
   "cell_type": "code",
   "execution_count": null,
   "metadata": {
    "pycharm": {
     "name": "#%%\n"
    }
   },
   "outputs": [],
   "source": [
    "test_values = [\n",
    "    (0.0, 0.0, 0.0),\n",
    "    (0.0, 1.0, 0.0),\n",
    "    (0.0, 1.0, 1.0),\n",
    "    (0.0, 1.0, 1.1),\n",
    "    (0.5, 2.0, 0.5),\n",
    "    (0.5, 2.0, 0.92),\n",
    "    (1.0, 1.0, 0.5),\n",
    "    (1.0, 1.0, 0.6),\n",
    "    (1.0, 1.0, 1.0),\n",
    "    (2.0, 2.0, 1.1),\n",
    "    (2.0, 2.0, 2.0),\n",
    "    (1.0, 0.0, 1.0),\n",
    "]\n",
    "\n",
    "for values in test_values:\n",
    "    Plotter.plot(values[0], values[1], values[2], max_vel, max_acc, PlotType.NONE)"
   ]
  },
  {
   "cell_type": "code",
   "execution_count": null,
   "outputs": [],
   "source": [
    "test_values = [\n",
    "    ((-1.5, -3), (2, 0), 2.3),\n",
    "    ((1, 0.5), (0, 0), 1),\n",
    "    ((-1.5, -3), (0, 0), 2.2),\n",
    "    ((-1, 0.5), (0, 0), 1),\n",
    "    ((-1.5, -3), (0, 0), 2.6),\n",
    "    ((-1.5, -3), (0, 0), 2.5),\n",
    "    ((-1.5, -3), (0, 0), 2.4),\n",
    "    ((-1.5, -3), (0, 0), 2.3),\n",
    "]\n",
    "\n",
    "for value in test_values:\n",
    "    distance = Vec2(*value[0])\n",
    "    initial_vel = Vec2(*value[1])\n",
    "    target_time = value[2]\n",
    "    Plotter.plot(distance, initial_vel, target_time, max_vel, max_acc, PlotType.SIM_TRAJ, show_fig=False)\n",
    "    Plotter.plot(distance, initial_vel, target_time, max_vel, max_acc, PlotType.TRAJ)"
   ],
   "metadata": {
    "collapsed": false,
    "pycharm": {
     "name": "#%%\n"
    }
   }
  },
  {
   "cell_type": "code",
   "execution_count": null,
   "outputs": [],
   "source": [
    "random.seed(1)\n",
    "t_diffs = []\n",
    "t_outlier = []\n",
    "for _ in range(100):\n",
    "    distance_x = random.uniform(-3, 3)\n",
    "    distance_y = random.uniform(-3, 3)\n",
    "    distance = Vec2(distance_x, distance_y)\n",
    "    v0x = random.uniform(-max_vel, max_vel)\n",
    "    v0y = random.uniform(-max_vel, max_vel)\n",
    "    v0 = Vec2(v0x, v0y)\n",
    "    target_time = random.uniform(0, 3)\n",
    "\n",
    "    if math.isclose(target_time, 0.0, abs_tol=1e-4) or (\n",
    "            math.isclose(distance_x, 0.0, abs_tol=1e-4) and math.isclose(distance_y, 0.0, abs_tol=1e-4)):\n",
    "        continue\n",
    "\n",
    "    try:\n",
    "        sim_steps = Simulator(\n",
    "            max_vel=max_vel,\n",
    "            max_acc=max_acc,\n",
    "            num_steps=40,\n",
    "            step_size=5,\n",
    "            distance=distance,\n",
    "            initial_vel=v0,\n",
    "            target_time=target_time).simulate()\n",
    "        for step in sim_steps:\n",
    "            if isinstance(step, SimStep2d):\n",
    "                t_diff_optimal = BangBangTrajectory2D.diff_for_alpha(step.optimal_alpha, step.pos[0], step.pos[-1],\n",
    "                                                                     step.vel[0], max_vel, max_acc,\n",
    "                                                                     step.times[-1] - step.times[0])[0]\n",
    "                t_diff_chosen = BangBangTrajectory2D.diff_for_alpha(step.alpha, step.pos[0], step.pos[-1],\n",
    "                                                                    step.vel[0], max_vel, max_acc,\n",
    "                                                                    step.times[-1] - step.times[0])[0]\n",
    "                t_diffs.append(step.optimal_alpha - step.alpha)\n",
    "                if math.fabs(max(t_diff_chosen - t_diff_optimal, 0.0)) > 5:\n",
    "                    Plotter.plot(step.pos[-1] - step.current_pos(), step.vel[0], step.times[-1] - step.times[0],\n",
    "                                 max_vel, max_acc, PlotType.TRAJ)\n",
    "                    plt.show()\n",
    "                    print(\"({}),({}),{}\".format(step.pos[-1] - step.current_pos(), step.vel[0],\n",
    "                                                step.times[-1] - step.times[0]))\n",
    "\n",
    "        if isinstance(distance, Vec2):\n",
    "            if not math.isclose(sim_steps[-1].current_pos().x, distance.x, abs_tol=0.01) or not math.isclose(\n",
    "                    sim_steps[-1].current_pos().y, distance.y, abs_tol=0.01):\n",
    "                print(\"{} != {}\".format(sim_steps[-1].current_pos().x, distance.x))\n",
    "                print(\"{} != {}\".format(sim_steps[-1].current_pos().y, distance.y))\n",
    "                # Plotter.plot(distance, v0, target_time, max_vel, max_acc, PlotType.TRAJ)\n",
    "        else:\n",
    "            assert math.isclose(sim_steps[-1].current_pos(), distance, abs_tol=1e-2,\n",
    "                                rel_tol=1e-4), \"{} != {}\".format(sim_steps[-1].current_pos(), distance)\n",
    "    except Exception as e:\n",
    "        print(\"({}), ({}), {} failed\".format(distance, v0, target_time))\n",
    "        raise AssertionError(e)\n",
    "print(\"Success!\")\n",
    "print(\"Alphas Error: {} +- {}\".format(np.average(t_diffs), np.std(t_diffs)))"
   ],
   "metadata": {
    "collapsed": false,
    "pycharm": {
     "name": "#%%\n"
    }
   }
  },
  {
   "cell_type": "code",
   "execution_count": null,
   "outputs": [],
   "source": [
    "sorted(t_diffs, key=lambda d: math.fabs(d))[-100:]"
   ],
   "metadata": {
    "collapsed": false,
    "pycharm": {
     "name": "#%%\n"
    }
   }
  }
 ],
 "metadata": {
  "kernelspec": {
   "display_name": "Python 3 (ipykernel)",
   "language": "python",
   "name": "python3"
  },
  "language_info": {
   "codemirror_mode": {
    "name": "ipython",
    "version": 3
   },
   "file_extension": ".py",
   "mimetype": "text/x-python",
   "name": "python",
   "nbconvert_exporter": "python",
   "pygments_lexer": "ipython3",
   "version": "3.10.4"
  }
 },
 "nbformat": 4,
 "nbformat_minor": 1
}
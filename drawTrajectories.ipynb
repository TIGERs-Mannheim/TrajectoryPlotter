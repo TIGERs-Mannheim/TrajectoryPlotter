{
 "cells": [
  {
   "cell_type": "code",
   "execution_count": null,
   "outputs": [],
   "source": [
    "import math\n",
    "import random\n",
    "\n",
    "import matplotlib.pyplot as plt\n",
    "import numpy as np\n",
    "\n",
    "from JavaClones.Vec2 import Vec2\n",
    "from Plotting.Plotter import PlotType, Plotter\n",
    "from Simulating.SimConfig import SimConfig\n",
    "from Simulating.SimStep import SimStep2d\n",
    "from Simulating.Simulator import Simulator\n"
   ],
   "metadata": {
    "collapsed": false
   }
  },
  {
   "cell_type": "code",
   "execution_count": null,
   "outputs": [],
   "source": [
    "v_max = 2.0\n",
    "a_max = 3.0\n",
    "\n",
    "global_save_figures = False\n"
   ],
   "metadata": {
    "collapsed": false
   }
  },
  {
   "cell_type": "code",
   "execution_count": null,
   "outputs": [],
   "source": [
    "data = (Vec2(-2.315975645294459539513809431809931993484497070312500000000000,2.828367247407117979207669122843071818351745605468750000000000),Vec2(-0.813583675943359896365336680901236832141876220703125000000000,0.269004749713088742169020406436175107955932617187500000000000),1.981912407668612763345095117983873933553695678710937500000000)  # UNEXPECTED HIT\n",
    "\n",
    "\n",
    "pos = Vec2.zero()\n",
    "des = data[0]\n",
    "v0 = data[1]\n",
    "tt = data[2]\n",
    "\n",
    "Plotter.plot(\n",
    "    s0=pos,\n",
    "    s1=des,\n",
    "    v0=v0,\n",
    "    v_max=v_max,\n",
    "    a_max=a_max,\n",
    "    tt=tt,\n",
    "    primary_direction=None,\n",
    "    plot_type=PlotType.TRAJ,\n",
    "    save_fig=False,\n",
    "    show_fig=True\n",
    ")"
   ],
   "metadata": {
    "collapsed": false
   }
  },
  {
   "cell_type": "code",
   "execution_count": null,
   "outputs": [],
   "source": [
    "from JavaClones.DestinationForTimedPositionCalc import DestinationForTimedPositionCalc\n",
    "from JavaClones.BangBangTrajectoryFactory import BangBangTrajectoryFactory\n",
    "\n",
    "des_new,_ = DestinationForTimedPositionCalc.destination_for_bang_bang_2d_sync(pos, des, v0, v_max,a_max,tt)\n",
    "traj = BangBangTrajectoryFactory.traj_2d_sync(pos, des_new, v0, v_max, a_max)"
   ],
   "metadata": {
    "collapsed": false
   }
  },
  {
   "cell_type": "code",
   "execution_count": null,
   "outputs": [],
   "source": [
    "print(traj.get_position(float(\"inf\")))\n",
    "print((des - traj.get_position(tt)).get_length())\n",
    "print((des - traj.get_position(tt)).get_length() < 0.01)"
   ],
   "metadata": {
    "collapsed": false
   }
  },
  {
   "cell_type": "code",
   "execution_count": null,
   "outputs": [],
   "source": [
    "Plotter.plot(\n",
    "    s0=0.2,\n",
    "    s1=1.5,\n",
    "    v0=0.3,\n",
    "    v_max=v_max,\n",
    "    a_max=a_max,\n",
    "    tt=None,\n",
    "    primary_direction=None,\n",
    "    plot_type=PlotType.TRAJ,\n",
    "    save_fig=False,\n",
    "    show_fig=True\n",
    ")"
   ],
   "metadata": {
    "collapsed": false
   }
  },
  {
   "cell_type": "code",
   "execution_count": null,
   "outputs": [],
   "source": [
    "Plotter.plot(\n",
    "    s0=Vec2.zero(),\n",
    "    s1=Vec2(1.0, 1.0),\n",
    "    v0=Vec2(v_max, 0.0),\n",
    "    v_max=v_max,\n",
    "    a_max=a_max,\n",
    "    tt=1.2,\n",
    "    primary_direction=None,\n",
    "    plot_type=PlotType.TRAJ,\n",
    "    save_fig=False,\n",
    "    show_fig=True\n",
    ")"
   ],
   "metadata": {
    "collapsed": false
   }
  },
  {
   "cell_type": "code",
   "execution_count": null,
   "outputs": [],
   "source": [
    "distances = [Vec2(1.5, 3)]\n",
    "initial_velocities = [Vec2(0, 2)]\n",
    "target_times = [1]\n",
    "\n",
    "for d in sorted(set(distances)):\n",
    "    for i_v in sorted(set(initial_velocities)):\n",
    "        for tt in sorted(set(target_times)):\n",
    "            Plotter.plot(\n",
    "                s0=Vec2.zero(),\n",
    "                s1=d,\n",
    "                v0=i_v,\n",
    "                v_max=v_max,\n",
    "                a_max=a_max,\n",
    "                tt=tt,\n",
    "                primary_direction=None,\n",
    "                plot_type=PlotType.TRAJ,\n",
    "                save_fig=False,\n",
    "                show_fig=True\n",
    "            )"
   ],
   "metadata": {
    "collapsed": false
   }
  },
  {
   "cell_type": "code",
   "execution_count": null,
   "outputs": [],
   "source": [
    "test_values = [\n",
    "    (0.0, 0.0, 0.0),\n",
    "    (0.0, 1.0, 0.0),\n",
    "    (0.0, 1.0, 1.0),\n",
    "    (0.0, 1.0, 1.1),\n",
    "    (0.5, 2.0, 0.5),\n",
    "    (0.5, 2.0, 0.92),\n",
    "    (1.0, 1.0, 0.5),\n",
    "    (1.0, 1.0, 0.6),\n",
    "    (1.0, 1.0, 1.0),\n",
    "    (2.0, 2.0, 1.1),\n",
    "    (2.0, 2.0, 2.0),\n",
    "    (1.0, 0.0, 1.0),\n",
    "]\n",
    "\n",
    "for values in test_values:\n",
    "    Plotter.plot(\n",
    "        s0=0,\n",
    "        s1=values[0],\n",
    "        v0=values[1],\n",
    "        v_max=v_max,\n",
    "        a_max=a_max,\n",
    "        tt=values[2],\n",
    "        primary_direction=None,\n",
    "        plot_type=PlotType.TRAJ,\n",
    "        save_fig=False,\n",
    "        show_fig=True\n",
    "    )"
   ],
   "metadata": {
    "collapsed": false
   }
  },
  {
   "cell_type": "code",
   "execution_count": null,
   "outputs": [],
   "source": [
    "test_values = [\n",
    "    ((-1.5, -3), (2, 0), 2.3),\n",
    "    ((1, 0.5), (0, 0), 1),\n",
    "    ((-1.5, -3), (0, 0), 2.2),\n",
    "    ((-1, 0.5), (0, 0), 1),\n",
    "    ((-1.5, -3), (0, 0), 2.6),\n",
    "    ((-1.5, -3), (0, 0), 2.5),\n",
    "    ((-1.5, -3), (0, 0), 2.4),\n",
    "    ((-1.5, -3), (0, 0), 2.3),\n",
    "]\n",
    "\n",
    "for values in test_values:\n",
    "    Plotter.plot(\n",
    "        s0=0,\n",
    "        s1=Vec2(*values[0]),\n",
    "        v0=Vec2(*values[1]),\n",
    "        v_max=v_max,\n",
    "        a_max=a_max,\n",
    "        tt=values[2],\n",
    "        primary_direction=None,\n",
    "        plot_type=PlotType.TRAJ,\n",
    "        save_fig=False,\n",
    "        show_fig=True\n",
    "    )"
   ],
   "metadata": {
    "collapsed": false
   }
  },
  {
   "cell_type": "code",
   "execution_count": null,
   "outputs": [],
   "source": [
    "random.seed(1)\n",
    "t_diffs = []\n",
    "t_outlier = []\n",
    "for _ in range(100):\n",
    "    distance_x = random.uniform(-3, 3)\n",
    "    distance_y = random.uniform(-3, 3)\n",
    "    distance = Vec2(distance_x, distance_y)\n",
    "    v0x = random.uniform(-v_max, v_max)\n",
    "    v0y = random.uniform(-v_max, v_max)\n",
    "    v0 = Vec2(v0x, v0y)\n",
    "    target_time = random.uniform(0, 3)\n",
    "\n",
    "    if math.isclose(target_time, 0.0, abs_tol=1e-4) or (\n",
    "            math.isclose(distance_x, 0.0, abs_tol=1e-4) and math.isclose(distance_y, 0.0, abs_tol=1e-4)):\n",
    "        continue\n",
    "\n",
    "    try:\n",
    "        config = SimConfig(\n",
    "            s=distance,\n",
    "            v0=v0,\n",
    "            tt=target_time,\n",
    "            v_max=v_max,\n",
    "            a_max=a_max,\n",
    "        )\n",
    "        sim_steps = Simulator().simulate(config, 40, 5)\n",
    "        for step in sim_steps:\n",
    "            if isinstance(step, SimStep2d):\n",
    "                t_diff_optimal = step.alpha_data.optimal // (math.pi / (2 * len(step.alpha_data.alphas)))\n",
    "                t_diff_chosen = step.alpha // (math.pi / (2 * len(step.alpha_data.alphas)))\n",
    "                t_diffs.append(step.optimal_alpha - step.alpha)\n",
    "                if abs(max(t_diff_chosen - t_diff_optimal, 0.0)) > 5:\n",
    "                    Plotter.plot(step.current_pos(), distance, step.current_vel(), v_max, a_max,\n",
    "                                 target_time - step.times[0], None, PlotType.TRAJ)\n",
    "                    plt.show()\n",
    "                    print(\"({}),({}),{}\".format(step.pos[-1] - step.current_pos(), step.vel[0],\n",
    "                                                step.times[-1] - step.times[0]))\n",
    "\n",
    "        if isinstance(distance, Vec2):\n",
    "            if not math.isclose(sim_steps[-1].current_pos().x, distance.x, abs_tol=0.01) or not math.isclose(\n",
    "                    sim_steps[-1].current_pos().y, distance.y, abs_tol=0.01):\n",
    "                print(\"{} != {}\".format(sim_steps[-1].current_pos().x, distance.x))\n",
    "                print(\"{} != {}\".format(sim_steps[-1].current_pos().y, distance.y))\n",
    "                # Plotter.plot(distance, v0, target_time, max_vel, max_acc, PlotType.TRAJ)\n",
    "        else:\n",
    "            assert math.isclose(sim_steps[-1].current_pos(), distance, abs_tol=1e-2,\n",
    "                                rel_tol=1e-4), \"{} != {}\".format(sim_steps[-1].current_pos(), distance)\n",
    "    except Exception as e:\n",
    "        print(\"({}), ({}), {} failed\".format(distance, v0, target_time))\n",
    "        raise AssertionError(e)\n",
    "print(\"Success!\")\n",
    "print(\"Alphas Error: {} +- {}\".format(np.average(t_diffs), np.std(t_diffs)))"
   ],
   "metadata": {
    "collapsed": false
   }
  },
  {
   "cell_type": "code",
   "execution_count": null,
   "outputs": [],
   "source": [
    "sorted(t_diffs, key=lambda d: abs(d))[-100:]"
   ],
   "metadata": {
    "collapsed": false
   }
  }
 ],
 "metadata": {
  "kernelspec": {
   "display_name": "Python 3 (ipykernel)",
   "language": "python",
   "name": "python3"
  },
  "language_info": {
   "codemirror_mode": {
    "name": "ipython",
    "version": 3
   },
   "file_extension": ".py",
   "mimetype": "text/x-python",
   "name": "python",
   "nbconvert_exporter": "python",
   "pygments_lexer": "ipython3",
   "version": "3.10.4"
  }
 },
 "nbformat": 4,
 "nbformat_minor": 1
}
